{
 "cells": [
  {
   "cell_type": "markdown",
   "metadata": {},
   "source": [
    "# List Comprehensions"
   ]
  },
  {
   "cell_type": "markdown",
   "metadata": {},
   "source": [
    "## Creating the input\n",
    "\n",
    "Let's start by creating a list of input numbers using list comprehension. We will:\n",
    "\n",
    "1) Ask the user for the starting number\n",
    "1) Ask the user for the ending number\n",
    "1) Use List Comprehension to create the list from start to end\n",
    "1) Print the list"
   ]
  },
  {
   "cell_type": "code",
   "execution_count": 9,
   "metadata": {},
   "outputs": [
    {
     "name": "stdout",
     "output_type": "stream",
     "text": [
      "start: 1, end: 40\n"
     ]
    }
   ],
   "source": [
    "start = int(input(\"Enter starting number\"))\n",
    "end = int(input(\"Enter ending number\"))\n",
    "print(f\"start: {start}, end: {end}\")"
   ]
  },
  {
   "cell_type": "code",
   "execution_count": 10,
   "metadata": {},
   "outputs": [
    {
     "name": "stdout",
     "output_type": "stream",
     "text": [
      "input_nums: [1, 2, 3, 4, 5, 6, 7, 8, 9, 10, 11, 12, 13, 14, 15, 16, 17, 18, 19, 20, 21, 22, 23, 24, 25, 26, 27, 28, 29, 30, 31, 32, 33, 34, 35, 36, 37, 38, 39, 40]\n"
     ]
    }
   ],
   "source": [
    "input_nums = [i for i in range(start, end + 1)]\n",
    "print(f\"input_nums: {input_nums}\")"
   ]
  },
  {
   "cell_type": "markdown",
   "metadata": {},
   "source": [
    "## Doing some work\n",
    "\n",
    "### Doubling each number"
   ]
  },
  {
   "cell_type": "code",
   "execution_count": 11,
   "metadata": {},
   "outputs": [
    {
     "name": "stdout",
     "output_type": "stream",
     "text": [
      "doubled_nums: [2, 4, 6, 8, 10, 12, 14, 16, 18, 20, 22, 24, 26, 28, 30, 32, 34, 36, 38, 40, 42, 44, 46, 48, 50, 52, 54, 56, 58, 60, 62, 64, 66, 68, 70, 72, 74, 76, 78, 80]\n"
     ]
    }
   ],
   "source": [
    "doubled_nums = [num * 2 for num in input_nums]\n",
    "print(f\"doubled_nums: {doubled_nums}\")"
   ]
  },
  {
   "cell_type": "markdown",
   "metadata": {},
   "source": [
    "### Filtering nums\n",
    "\n",
    "Let's get a list of numbers from doubled_nums divisible by 3"
   ]
  },
  {
   "cell_type": "code",
   "execution_count": 12,
   "metadata": {},
   "outputs": [
    {
     "name": "stdout",
     "output_type": "stream",
     "text": [
      "doubled_nums_divisible_by_3: [6, 12, 18, 24, 30, 36, 42, 48, 54, 60, 66, 72, 78]\n"
     ]
    }
   ],
   "source": [
    "doubled_nums_divisible_by_3 = [num for num in doubled_nums if not num % 3]\n",
    "print(f\"doubled_nums_divisible_by_3: {doubled_nums_divisible_by_3}\")"
   ]
  },
  {
   "cell_type": "markdown",
   "metadata": {},
   "source": [
    "### FizzBuzz\n",
    "\n",
    "First we will write a FizzBuzz function that does the following:\n",
    "\n",
    "From the starting number to the ending number:\n",
    "\n",
    "1) if num % 3 == 0, return Fizz\n",
    "1) if num % 5 == 0, return Buzz\n",
    "1) if num % 3 and num % 5 return FizzBuzz"
   ]
  },
  {
   "cell_type": "code",
   "execution_count": 13,
   "metadata": {},
   "outputs": [
    {
     "data": {
      "text/plain": [
       "[(1, '1'),\n",
       " (2, '2'),\n",
       " (3, 'Fizz'),\n",
       " (4, '4'),\n",
       " (5, 'Buzz'),\n",
       " (6, 'Fizz'),\n",
       " (7, '7'),\n",
       " (8, '8'),\n",
       " (9, 'Fizz'),\n",
       " (10, 'Buzz'),\n",
       " (11, '11'),\n",
       " (12, 'Fizz'),\n",
       " (13, '13'),\n",
       " (14, '14'),\n",
       " (15, 'FizzBuzz'),\n",
       " (16, '16'),\n",
       " (17, '17'),\n",
       " (18, 'Fizz'),\n",
       " (19, '19'),\n",
       " (20, 'Buzz'),\n",
       " (21, 'Fizz'),\n",
       " (22, '22'),\n",
       " (23, '23'),\n",
       " (24, 'Fizz'),\n",
       " (25, 'Buzz'),\n",
       " (26, '26'),\n",
       " (27, 'Fizz'),\n",
       " (28, '28'),\n",
       " (29, '29'),\n",
       " (30, 'FizzBuzz'),\n",
       " (31, '31'),\n",
       " (32, '32'),\n",
       " (33, 'Fizz'),\n",
       " (34, '34'),\n",
       " (35, 'Buzz'),\n",
       " (36, 'Fizz'),\n",
       " (37, '37'),\n",
       " (38, '38'),\n",
       " (39, 'Fizz'),\n",
       " (40, 'Buzz')]"
      ]
     },
     "execution_count": 13,
     "metadata": {},
     "output_type": "execute_result"
    }
   ],
   "source": [
    "def fizzBuzz(start, end):\n",
    "  final = []\n",
    "  for i in range(start, end + 1):\n",
    "    result = \"\"\n",
    "    if not i % 3: result += \"Fizz\"\n",
    "    if not i % 5: result += \"Buzz\"\n",
    "    if not result: result = str(i)\n",
    "    final.append((i, result))\n",
    "  return final\n",
    "fizzBuzz(start, end)"
   ]
  },
  {
   "cell_type": "markdown",
   "metadata": {},
   "source": [
    "### FizzBuzz List Comprehension\n",
    "\n",
    "Now let's do FizzBuzz again, but as a list comprehension so we don't need to create a function"
   ]
  },
  {
   "cell_type": "code",
   "execution_count": 14,
   "metadata": {},
   "outputs": [
    {
     "data": {
      "text/plain": [
       "['1',\n",
       " '2',\n",
       " 'Fizz',\n",
       " '4',\n",
       " 'Buzz',\n",
       " 'Fizz',\n",
       " '7',\n",
       " '8',\n",
       " 'Fizz',\n",
       " 'Buzz',\n",
       " '11',\n",
       " 'Fizz',\n",
       " '13',\n",
       " '14',\n",
       " 'FizzBuzz',\n",
       " '16',\n",
       " '17',\n",
       " 'Fizz',\n",
       " '19',\n",
       " 'Buzz',\n",
       " 'Fizz',\n",
       " '22',\n",
       " '23',\n",
       " 'Fizz',\n",
       " 'Buzz',\n",
       " '26',\n",
       " 'Fizz',\n",
       " '28',\n",
       " '29',\n",
       " 'FizzBuzz',\n",
       " '31',\n",
       " '32',\n",
       " 'Fizz',\n",
       " '34',\n",
       " 'Buzz',\n",
       " 'Fizz',\n",
       " '37',\n",
       " '38',\n",
       " 'Fizz',\n",
       " 'Buzz']"
      ]
     },
     "execution_count": 14,
     "metadata": {},
     "output_type": "execute_result"
    }
   ],
   "source": [
    "fizz_buzz = [\n",
    "  \"FizzBuzz\" if not i % 3 and not i % 5 else\n",
    "  \"Fizz\" if not i % 3 else\n",
    "  \"Buzz\" if not i % 5 else\n",
    "  str(i) \n",
    "  for i in range(start, end+1)\n",
    "  ]\n",
    "fizz_buzz"
   ]
  },
  {
   "cell_type": "markdown",
   "metadata": {},
   "source": [
    "### FizzBuzz Review\n",
    "\n",
    "The function version of FizzBuzz is a little longer, but it is more flexible since it can compose \"FizzBuzz\" responses. If we wanted to add a new rule to FizzBuzz, we only need to add one additional line to the function, but the list comprehension would need 4 additional lines to handle all possible interactions. Also important to note that we must check the composition cases in the list comprehension version, otherwise we will return the first match instead of the composed match\n",
    "\n",
    "I am not sure if there is a simpler way to do this with list comprehensions\n",
    "\n",
    "### FizzBuzzBar"
   ]
  },
  {
   "cell_type": "code",
   "execution_count": 15,
   "metadata": {},
   "outputs": [
    {
     "data": {
      "text/plain": [
       "[(1, '1'),\n",
       " (2, '2'),\n",
       " (3, 'Fizz'),\n",
       " (4, '4'),\n",
       " (5, 'Buzz'),\n",
       " (6, 'Fizz'),\n",
       " (7, 'Bar'),\n",
       " (8, '8'),\n",
       " (9, 'Fizz'),\n",
       " (10, 'Buzz'),\n",
       " (11, '11'),\n",
       " (12, 'Fizz'),\n",
       " (13, '13'),\n",
       " (14, 'Bar'),\n",
       " (15, 'FizzBuzz'),\n",
       " (16, '16'),\n",
       " (17, '17'),\n",
       " (18, 'Fizz'),\n",
       " (19, '19'),\n",
       " (20, 'Buzz'),\n",
       " (21, 'FizzBar'),\n",
       " (22, '22'),\n",
       " (23, '23'),\n",
       " (24, 'Fizz'),\n",
       " (25, 'Buzz'),\n",
       " (26, '26'),\n",
       " (27, 'Fizz'),\n",
       " (28, 'Bar'),\n",
       " (29, '29'),\n",
       " (30, 'FizzBuzz'),\n",
       " (31, '31'),\n",
       " (32, '32'),\n",
       " (33, 'Fizz'),\n",
       " (34, '34'),\n",
       " (35, 'BuzzBar'),\n",
       " (36, 'Fizz'),\n",
       " (37, '37'),\n",
       " (38, '38'),\n",
       " (39, 'Fizz'),\n",
       " (40, 'Buzz')]"
      ]
     },
     "execution_count": 15,
     "metadata": {},
     "output_type": "execute_result"
    }
   ],
   "source": [
    "def fizzBuzzBar(start, end):\n",
    "  final = []\n",
    "  for i in range(start, end + 1):\n",
    "    result = \"\"\n",
    "    if not i % 3: result += \"Fizz\"\n",
    "    if not i % 5: result += \"Buzz\"\n",
    "    if not i % 7: result += \"Bar\"\n",
    "    if not result: result = str(i)\n",
    "    final.append((i, result))\n",
    "  return final\n",
    "fizzBuzzBar(start, end)"
   ]
  },
  {
   "cell_type": "code",
   "execution_count": 16,
   "metadata": {
    "tags": [
     "parameters"
    ]
   },
   "outputs": [
    {
     "data": {
      "text/plain": [
       "['1',\n",
       " '2',\n",
       " 'Fizz',\n",
       " '4',\n",
       " 'Buzz',\n",
       " 'Fizz',\n",
       " 'Bar',\n",
       " '8',\n",
       " 'Fizz',\n",
       " 'Buzz',\n",
       " '11',\n",
       " 'Fizz',\n",
       " '13',\n",
       " 'Bar',\n",
       " 'FizzBuzz',\n",
       " '16',\n",
       " '17',\n",
       " 'Fizz',\n",
       " '19',\n",
       " 'Buzz',\n",
       " 'FizzBar',\n",
       " '22',\n",
       " '23',\n",
       " 'Fizz',\n",
       " 'Buzz',\n",
       " '26',\n",
       " 'Fizz',\n",
       " 'Bar',\n",
       " '29',\n",
       " 'FizzBuzz',\n",
       " '31',\n",
       " '32',\n",
       " 'Fizz',\n",
       " '34',\n",
       " 'BuzzBar',\n",
       " 'Fizz',\n",
       " '37',\n",
       " '38',\n",
       " 'Fizz',\n",
       " 'Buzz']"
      ]
     },
     "execution_count": 16,
     "metadata": {},
     "output_type": "execute_result"
    }
   ],
   "source": [
    "fizz_buzz_bar = [\n",
    "  \"FizzBuzzBar\" if not i % 3 and not i % 5 and not i % 7 else\n",
    "  \"FizzBuzz\" if not i % 3 and not i % 5 else\n",
    "  \"FizzBar\" if not i % 3 and not i % 7 else\n",
    "  \"BuzzBar\" if not i % 5 and not i % 7 else\n",
    "  \"Fizz\" if not i % 3 else\n",
    "  \"Buzz\" if not i % 5 else\n",
    "  \"Bar\" if not i % 7 else\n",
    "  str(i)\n",
    "  for i in range(start, end + 1)\n",
    "  ]\n",
    "fizz_buzz_bar"
   ]
  },
  {
   "cell_type": "markdown",
   "metadata": {},
   "source": [
    "### FizzBuzzBar Review\n",
    "\n",
    "The function version of FizzBuzzBar only increased by a single line of code O(n), while the list comprehension version is growing at a rate of O(n^2). The function version was also easily modified to append a tuples containing the input and the output in the result list. In order to do this in the list comprehension version we would need to return a tuple on each condition line"
   ]
  }
 ],
 "metadata": {
  "kernelspec": {
   "display_name": "base",
   "language": "python",
   "name": "python3"
  },
  "language_info": {
   "codemirror_mode": {
    "name": "ipython",
    "version": 3
   },
   "file_extension": ".py",
   "mimetype": "text/x-python",
   "name": "python",
   "nbconvert_exporter": "python",
   "pygments_lexer": "ipython3",
   "version": "3.11.5"
  }
 },
 "nbformat": 4,
 "nbformat_minor": 2
}

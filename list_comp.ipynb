{
 "cells": [
  {
   "cell_type": "markdown",
   "metadata": {},
   "source": [
    "# List Comprehensions"
   ]
  },
  {
   "cell_type": "markdown",
   "metadata": {},
   "source": [
    "## Creating the input\n",
    "\n",
    "Let's start by creating a list of input numbers using list comprehension. We will:\n",
    "\n",
    "1) Ask the user for the starting number\n",
    "1) Ask the user for the ending number\n",
    "1) Use List Comprehension to create the list from start to end\n",
    "1) Print the list"
   ]
  },
  {
   "cell_type": "code",
   "execution_count": 1,
   "metadata": {},
   "outputs": [
    {
     "name": "stdout",
     "output_type": "stream",
     "text": [
      "start: 6, end: 35\n"
     ]
    }
   ],
   "source": [
    "start = int(input(\"Enter starting number\"))\n",
    "end = int(input(\"Enter ending number\"))\n",
    "print(f\"start: {start}, end: {end}\")"
   ]
  },
  {
   "cell_type": "code",
   "execution_count": 2,
   "metadata": {},
   "outputs": [
    {
     "name": "stdout",
     "output_type": "stream",
     "text": [
      "[6, 7, 8, 9, 10, 11, 12, 13, 14, 15, 16, 17, 18, 19, 20, 21, 22, 23, 24, 25, 26, 27, 28, 29, 30, 31, 32, 33, 34, 35]\n"
     ]
    }
   ],
   "source": [
    "input_nums = [i for i in range(start, end + 1)]\n",
    "print(input_nums)"
   ]
  },
  {
   "cell_type": "markdown",
   "metadata": {},
   "source": [
    "## Doing some work\n",
    "\n",
    "### Doubling each number"
   ]
  },
  {
   "cell_type": "code",
   "execution_count": 3,
   "metadata": {},
   "outputs": [
    {
     "name": "stdout",
     "output_type": "stream",
     "text": [
      "[12, 14, 16, 18, 20, 22, 24, 26, 28, 30, 32, 34, 36, 38, 40, 42, 44, 46, 48, 50, 52, 54, 56, 58, 60, 62, 64, 66, 68, 70]\n"
     ]
    }
   ],
   "source": [
    "print([num * 2 for num in input_nums])"
   ]
  },
  {
   "cell_type": "markdown",
   "metadata": {},
   "source": [
    "### Filtering nums\n",
    "\n",
    "Let's get a list of numbers from doubled_nums divisible by 3"
   ]
  },
  {
   "cell_type": "code",
   "execution_count": 4,
   "metadata": {},
   "outputs": [
    {
     "data": {
      "text/plain": [
       "[12, 18, 24, 30, 36, 42, 48, 54, 60, 66]"
      ]
     },
     "execution_count": 4,
     "metadata": {},
     "output_type": "execute_result"
    }
   ],
   "source": [
    "[num * 2 for num in input_nums if not num % 3]"
   ]
  },
  {
   "cell_type": "markdown",
   "metadata": {},
   "source": [
    "### FizzBuzz\n",
    "\n",
    "First we will write a FizzBuzz function that does the following:\n",
    "\n",
    "From the starting number to the ending number:\n",
    "\n",
    "1) if num % 3 == 0, return Fizz\n",
    "1) if num % 5 == 0, return Buzz\n",
    "1) if num % 3 and num % 5 return FizzBuzz"
   ]
  },
  {
   "cell_type": "code",
   "execution_count": 5,
   "metadata": {},
   "outputs": [
    {
     "data": {
      "text/plain": [
       "[(6, 'Fizz'),\n",
       " (7, '7'),\n",
       " (8, '8'),\n",
       " (9, 'Fizz'),\n",
       " (10, 'Buzz'),\n",
       " (11, '11'),\n",
       " (12, 'Fizz'),\n",
       " (13, '13'),\n",
       " (14, '14'),\n",
       " (15, 'FizzBuzz'),\n",
       " (16, '16'),\n",
       " (17, '17'),\n",
       " (18, 'Fizz'),\n",
       " (19, '19'),\n",
       " (20, 'Buzz'),\n",
       " (21, 'Fizz'),\n",
       " (22, '22'),\n",
       " (23, '23'),\n",
       " (24, 'Fizz'),\n",
       " (25, 'Buzz'),\n",
       " (26, '26'),\n",
       " (27, 'Fizz'),\n",
       " (28, '28'),\n",
       " (29, '29'),\n",
       " (30, 'FizzBuzz'),\n",
       " (31, '31'),\n",
       " (32, '32'),\n",
       " (33, 'Fizz'),\n",
       " (34, '34'),\n",
       " (35, 'Buzz')]"
      ]
     },
     "execution_count": 5,
     "metadata": {},
     "output_type": "execute_result"
    }
   ],
   "source": [
    "def fizzBuzz(start, end):\n",
    "  final = []\n",
    "  for i in range(start, end + 1):\n",
    "    result = \"\"\n",
    "    if not i % 3: result += \"Fizz\"\n",
    "    if not i % 5: result += \"Buzz\"\n",
    "    if not result: result = str(i)\n",
    "    final.append((i, result))\n",
    "  return final\n",
    "fizzBuzz(start, end)"
   ]
  },
  {
   "cell_type": "markdown",
   "metadata": {},
   "source": [
    "### FizzBuzz List Comprehension\n",
    "\n",
    "Now let's do FizzBuzz again, but as a list comprehension so we don't need to create a function"
   ]
  },
  {
   "cell_type": "code",
   "execution_count": 6,
   "metadata": {},
   "outputs": [
    {
     "data": {
      "text/plain": [
       "['Fizz',\n",
       " '7',\n",
       " '8',\n",
       " 'Fizz',\n",
       " 'Buzz',\n",
       " '11',\n",
       " 'Fizz',\n",
       " '13',\n",
       " '14',\n",
       " 'FizzBuzz',\n",
       " '16',\n",
       " '17',\n",
       " 'Fizz',\n",
       " '19',\n",
       " 'Buzz',\n",
       " 'Fizz',\n",
       " '22',\n",
       " '23',\n",
       " 'Fizz',\n",
       " 'Buzz',\n",
       " '26',\n",
       " 'Fizz',\n",
       " '28',\n",
       " '29',\n",
       " 'FizzBuzz',\n",
       " '31',\n",
       " '32',\n",
       " 'Fizz',\n",
       " '34',\n",
       " 'Buzz']"
      ]
     },
     "execution_count": 6,
     "metadata": {},
     "output_type": "execute_result"
    }
   ],
   "source": [
    "fizz_buzz = [\n",
    "  \"FizzBuzz\" if not i % 3 and not i % 5 else\n",
    "  \"Fizz\" if not i % 3 else\n",
    "  \"Buzz\" if not i % 5 else\n",
    "  str(i) \n",
    "  for i in range(start, end+1)\n",
    "  ]\n",
    "fizz_buzz"
   ]
  },
  {
   "cell_type": "markdown",
   "metadata": {},
   "source": [
    "### FizzBuzz Review\n",
    "\n",
    "The function version of FizzBuzz is a little longer, but it is more flexible since it can compose \"FizzBuzz\" responses. If we wanted to add a new rule to FizzBuzz, we only need to add one additional line to the function, but the list comprehension would need 4 additional lines to handle all possible interactions. Also important to note that we must check the composition cases in the list comprehension version, otherwise we will return the first match instead of the composed match\n",
    "\n",
    "I am not sure if there is a simpler way to do this with list comprehensions\n",
    "\n",
    "### FizzBuzzBar"
   ]
  },
  {
   "cell_type": "code",
   "execution_count": 7,
   "metadata": {},
   "outputs": [
    {
     "data": {
      "text/plain": [
       "[(6, 'Fizz'),\n",
       " (7, 'Bar'),\n",
       " (8, '8'),\n",
       " (9, 'Fizz'),\n",
       " (10, 'Buzz'),\n",
       " (11, '11'),\n",
       " (12, 'Fizz'),\n",
       " (13, '13'),\n",
       " (14, 'Bar'),\n",
       " (15, 'FizzBuzz'),\n",
       " (16, '16'),\n",
       " (17, '17'),\n",
       " (18, 'Fizz'),\n",
       " (19, '19'),\n",
       " (20, 'Buzz'),\n",
       " (21, 'FizzBar'),\n",
       " (22, '22'),\n",
       " (23, '23'),\n",
       " (24, 'Fizz'),\n",
       " (25, 'Buzz'),\n",
       " (26, '26'),\n",
       " (27, 'Fizz'),\n",
       " (28, 'Bar'),\n",
       " (29, '29'),\n",
       " (30, 'FizzBuzz'),\n",
       " (31, '31'),\n",
       " (32, '32'),\n",
       " (33, 'Fizz'),\n",
       " (34, '34'),\n",
       " (35, 'BuzzBar')]"
      ]
     },
     "execution_count": 7,
     "metadata": {},
     "output_type": "execute_result"
    }
   ],
   "source": [
    "def fizzBuzzBar(start, end):\n",
    "  final = []                           # create a list to contain our final result\n",
    "  for i in range(start, end + 1):      # initiate the loop from start to end (inclusive)\n",
    "    result = \"\"                        # create a container for our result on this iteration of loop\n",
    "    if not i % 3: result += \"Fizz\"     # handle Fizz\n",
    "    if not i % 5: result += \"Buzz\"     # handle Buzz\n",
    "    if not i % 7: result += \"Bar\"      # handle Bar\n",
    "    if not result: result = str(i)     # handle no match\n",
    "    final.append((i, result))          # append a tuple containing i and result to final list\n",
    "  return final                         # return the final list\n",
    "fizzBuzzBar(start, end)                # call the function"
   ]
  },
  {
   "cell_type": "code",
   "execution_count": 8,
   "metadata": {
    "tags": [
     "parameters"
    ]
   },
   "outputs": [
    {
     "data": {
      "text/plain": [
       "['Fizz',\n",
       " 'Bar',\n",
       " '8',\n",
       " 'Fizz',\n",
       " 'Buzz',\n",
       " '11',\n",
       " 'Fizz',\n",
       " '13',\n",
       " 'Bar',\n",
       " 'FizzBuzz',\n",
       " '16',\n",
       " '17',\n",
       " 'Fizz',\n",
       " '19',\n",
       " 'Buzz',\n",
       " 'FizzBar',\n",
       " '22',\n",
       " '23',\n",
       " 'Fizz',\n",
       " 'Buzz',\n",
       " '26',\n",
       " 'Fizz',\n",
       " 'Bar',\n",
       " '29',\n",
       " 'FizzBuzz',\n",
       " '31',\n",
       " '32',\n",
       " 'Fizz',\n",
       " '34',\n",
       " 'BuzzBar']"
      ]
     },
     "execution_count": 8,
     "metadata": {},
     "output_type": "execute_result"
    }
   ],
   "source": [
    "fizz_buzz_bar = [\n",
    "  \"FizzBuzzBar\" if not i % 3 and not i % 5 and not i % 7 else\n",
    "  \"FizzBuzz\" if not i % 3 and not i % 5 else\n",
    "  \"FizzBar\" if not i % 3 and not i % 7 else\n",
    "  \"BuzzBar\" if not i % 5 and not i % 7 else\n",
    "  \"Fizz\" if not i % 3 else\n",
    "  \"Buzz\" if not i % 5 else\n",
    "  \"Bar\" if not i % 7 else\n",
    "  str(i)\n",
    "  for i in range(start, end + 1)\n",
    "  ]\n",
    "fizz_buzz_bar"
   ]
  },
  {
   "cell_type": "markdown",
   "metadata": {},
   "source": [
    "### FizzBuzzBar Review\n",
    "\n",
    "The function version of FizzBuzzBar only increased by a single line of code O(n), while the list comprehension version is growing at a rate of O(n^2). The function version was also easily modified to append a tuples containing the input and the output in the result list. In order to do this in the list comprehension version we would need to return a tuple on each condition line"
   ]
  },
  {
   "cell_type": "markdown",
   "metadata": {},
   "source": [
    "### FizzBuzzBar2\n",
    "\n",
    "After doing some reasearch I found a brilliant way of using string multiplication against a boolean to implement FizzBuzzBar in a list comprehension that is able to compose when multiple conditions are met. Also using the built-in enumerate() function we can create tuples of the input number and result like I did in the function version, however you do need to iterate through the enumeration or override the representation for this to display properly. Displaying the enumeration by reurning to the console or using the print function will cause it to display as an Enumeration object instead of displaying the values"
   ]
  },
  {
   "cell_type": "code",
   "execution_count": 9,
   "metadata": {},
   "outputs": [
    {
     "name": "stdout",
     "output_type": "stream",
     "text": [
      "(6, 'Fizz')\n",
      "(7, 'Bar')\n",
      "(8, '8')\n",
      "(9, 'Fizz')\n",
      "(10, 'Buzz')\n",
      "(11, '11')\n",
      "(12, 'Fizz')\n",
      "(13, '13')\n",
      "(14, 'Bar')\n",
      "(15, 'FizzBuzz')\n",
      "(16, '16')\n",
      "(17, '17')\n",
      "(18, 'Fizz')\n",
      "(19, '19')\n",
      "(20, 'Buzz')\n",
      "(21, 'FizzBar')\n",
      "(22, '22')\n",
      "(23, '23')\n",
      "(24, 'Fizz')\n",
      "(25, 'Buzz')\n",
      "(26, '26')\n",
      "(27, 'Fizz')\n",
      "(28, 'Bar')\n",
      "(29, '29')\n",
      "(30, 'FizzBuzz')\n",
      "(31, '31')\n",
      "(32, '32')\n",
      "(33, 'Fizz')\n",
      "(34, '34')\n",
      "(35, 'BuzzBar')\n"
     ]
    }
   ],
   "source": [
    "fizz_buzz_bar2 = enumerate([\n",
    "  \"Fizz\"*(not i % 3) +\n",
    "  \"Buzz\"*(not i % 5) +\n",
    "  \"Bar\"*(not i % 7) or\n",
    "  str(i)\n",
    "  for i in range(start, end + 1)\n",
    "  ], start)\n",
    "for item in fizz_buzz_bar2:\n",
    "  print(item)"
   ]
  },
  {
   "cell_type": "markdown",
   "metadata": {},
   "source": [
    "### FizzBuzzBar Conclusion\n",
    "\n",
    "It turns out we can pretty much implement the same behavior for FizzBuzzBar using list comprehension that we could defining the function and using a loop. If we needed to compose a list a single time (or once per iteration of a loop), list comprehension may be the better way to do this as long as the comprehension is clear enough that it can be understood. If the list comprehension becomes too messy or if we will need to reuse the functionality, the function would be the better option"
   ]
  }
 ],
 "metadata": {
  "kernelspec": {
   "display_name": "base",
   "language": "python",
   "name": "python3"
  },
  "language_info": {
   "codemirror_mode": {
    "name": "ipython",
    "version": 3
   },
   "file_extension": ".py",
   "mimetype": "text/x-python",
   "name": "python",
   "nbconvert_exporter": "python",
   "pygments_lexer": "ipython3",
   "version": "3.11.5"
  }
 },
 "nbformat": 4,
 "nbformat_minor": 2
}

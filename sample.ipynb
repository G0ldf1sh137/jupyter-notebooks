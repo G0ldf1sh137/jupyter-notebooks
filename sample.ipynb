{
 "cells": [
  {
   "cell_type": "markdown",
   "id": "de3b6650-43f3-48c6-9a17-cdea182a25bd",
   "metadata": {},
   "source": [
    "# Notebook Test"
   ]
  },
  {
   "cell_type": "markdown",
   "id": "0d10a0c2-373d-4f7f-90cd-2a43d0bb4c8f",
   "metadata": {},
   "source": [
    "## Getting user input"
   ]
  },
  {
   "cell_type": "code",
   "execution_count": 1,
   "id": "9477bb60-cf9d-4d62-9115-2b648edd28e9",
   "metadata": {
    "tags": []
   },
   "outputs": [
    {
     "name": "stdout",
     "output_type": "stream",
     "text": [
      "Hello, Matt!\n"
     ]
    }
   ],
   "source": [
    "name = input(\"What is your name? \")\n",
    "print(f\"Hello, {name}!\")"
   ]
  },
  {
   "cell_type": "markdown",
   "id": "d007ff43-afcf-4dda-bb15-b8503bb1cc14",
   "metadata": {},
   "source": [
    "## Defining a function"
   ]
  },
  {
   "cell_type": "code",
   "execution_count": 2,
   "id": "bfaed259-81f8-493a-8166-05696feb5b35",
   "metadata": {
    "tags": []
   },
   "outputs": [
    {
     "name": "stdout",
     "output_type": "stream",
     "text": [
      "It's nice to meet you, Matt!\n"
     ]
    }
   ],
   "source": [
    "def greet(person):\n",
    "    print(f\"It's nice to meet you, {person}!\")\n",
    "    \n",
    "greet(name)"
   ]
  },
  {
   "cell_type": "markdown",
   "id": "29b38967-45d2-4398-97a7-08ef8c863d85",
   "metadata": {},
   "source": [
    "## Defining a parent class "
   ]
  },
  {
   "cell_type": "code",
   "execution_count": 3,
   "id": "b950c7a9-de06-4d39-89ca-9dc8374d0af2",
   "metadata": {
    "tags": []
   },
   "outputs": [],
   "source": [
    "class Shape:\n",
    "    def __init__(self):\n",
    "        raise Exception(\"constructor method not defined for parent Shape class\")\n",
    "    \n",
    "    def area(self):\n",
    "        raise Exception(\"area() method not defined for parent Shape class\")\n",
    "    \n",
    "    def perimeter(self):\n",
    "        raise Exception(\"perimeter() method not defined for parent Shape class\")"
   ]
  },
  {
   "cell_type": "markdown",
   "id": "ca8c1409-9f0e-4800-9ab3-5cc9dc43e1f3",
   "metadata": {},
   "source": [
    "## Using inheritance"
   ]
  },
  {
   "cell_type": "code",
   "execution_count": 4,
   "id": "8813d056-7f7b-426f-8fe0-457000c6f955",
   "metadata": {
    "tags": []
   },
   "outputs": [],
   "source": [
    "class Rectangle(Shape):\n",
    "    def __init__(self, length, width):\n",
    "        if type(length) not in [int, float] or length <= 0:\n",
    "            raise ValueError(\"length must be a positive real number\")\n",
    "        if type(width) not in [int, float] or width <= 0:\n",
    "            raise ValueError(\"width must be a positive real number\")\n",
    "        self.length = length\n",
    "        self.width = width\n",
    "        \n",
    "    def area(self):\n",
    "        return self.length * self.width\n",
    "    \n",
    "    def perimeter(self):\n",
    "        return (self.length + self.width) * 2\n",
    "\n",
    "from math import pi\n",
    "\n",
    "class Circle(Shape):\n",
    "    def __init__(self, radius):\n",
    "        if type(radius) not in [int, float] or radius <= 0:\n",
    "            raise ValueError(\"radius must be a positive real number\")\n",
    "        self.radius = radius\n",
    "\n",
    "    def area(self):\n",
    "        return pi * self.radius ** 2\n",
    "    \n",
    "    def perimeter(self):\n",
    "        return 2 * pi * self.radius"
   ]
  },
  {
   "cell_type": "markdown",
   "metadata": {},
   "source": [
    "## Multiple Inheritence"
   ]
  },
  {
   "cell_type": "code",
   "execution_count": 5,
   "metadata": {},
   "outputs": [],
   "source": [
    "class Square(Rectangle):\n",
    "    def __init__(self, side):\n",
    "        super().__init__(side, side)"
   ]
  },
  {
   "cell_type": "markdown",
   "metadata": {},
   "source": [
    "## Testing the classes"
   ]
  },
  {
   "cell_type": "code",
   "execution_count": 6,
   "metadata": {},
   "outputs": [
    {
     "name": "stdout",
     "output_type": "stream",
     "text": [
      "Area of a 6x9 Rectangle is: 54\n",
      "Perimeter of a 6x9 Rectangle is: 30\n",
      "\n",
      "Area of a circle with radius 6.9 is: 149.57122623741006\n",
      "Perimeter of a circle with radius 6.9 is: 43.35397861953915\n",
      "\n",
      "Area of a 5x5 Square is: 25\n",
      "Perimeter of a 5x5 Square is: 20\n",
      "\n"
     ]
    }
   ],
   "source": [
    "rect_length = int(input(\"Enter a rectangle length\"))\n",
    "rect_width = int(input(\"Enter a rectangle width\"))\n",
    "rect = Rectangle(rect_length, rect_width)\n",
    "print(f\"Area of a {rect.length}x{rect.width} Rectangle is: {rect.area()}\")\n",
    "print(f\"Perimeter of a {rect.length}x{rect.width} Rectangle is: {rect.perimeter()}\\n\")\n",
    "\n",
    "circle = Circle(float(input(\"Enter a circle radius\")))\n",
    "print(f\"Area of a circle with radius {circle.radius} is: {circle.area()}\")\n",
    "print(f\"Perimeter of a circle with radius {circle.radius} is: {circle.perimeter()}\\n\")\n",
    "\n",
    "square = Square(int(input(\"Enter a square length\")))\n",
    "print(f\"Area of a {square.length}x{square.width} Square is: {square.area()}\")\n",
    "print(f\"Perimeter of a {square.length}x{square.width} Square is: {square.perimeter()}\\n\")"
   ]
  }
 ],
 "metadata": {
  "kernelspec": {
   "display_name": "Python 3 (ipykernel)",
   "language": "python",
   "name": "python3"
  },
  "language_info": {
   "codemirror_mode": {
    "name": "ipython",
    "version": 3
   },
   "file_extension": ".py",
   "mimetype": "text/x-python",
   "name": "python",
   "nbconvert_exporter": "python",
   "pygments_lexer": "ipython3",
   "version": "3.11.5"
  }
 },
 "nbformat": 4,
 "nbformat_minor": 5
}
